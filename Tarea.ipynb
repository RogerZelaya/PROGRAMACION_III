{
  "nbformat": 4,
  "nbformat_minor": 0,
  "metadata": {
    "colab": {
      "name": "Tarea.ipynb",
      "provenance": [],
      "authorship_tag": "ABX9TyOvyv/RjbSu/afGtXGaVKv/",
      "include_colab_link": true
    },
    "kernelspec": {
      "name": "python3",
      "display_name": "Python 3"
    },
    "language_info": {
      "name": "python"
    }
  },
  "cells": [
    {
      "cell_type": "markdown",
      "metadata": {
        "id": "view-in-github",
        "colab_type": "text"
      },
      "source": [
        "<a href=\"https://colab.research.google.com/github/USIS011120/PROGRAMACION_III/blob/main/Tarea.ipynb\" target=\"_parent\"><img src=\"https://colab.research.google.com/assets/colab-badge.svg\" alt=\"Open In Colab\"/></a>"
      ]
    },
    {
      "cell_type": "code",
      "metadata": {
        "id": "avuBeE8M4nK-"
      },
      "source": [
        "TAREA\n",
        "1.Convertir de Celsius de Fahrenheit \n",
        "2.Calcular la edad de una persona.\n",
        "3.Obtener la nota final de ciclo"
      ],
      "execution_count": null,
      "outputs": []
    },
    {
      "cell_type": "code",
      "metadata": {
        "id": "JRodm5wq4oSm"
      },
      "source": [
        "Convertir de Celsius de Fahrenheit "
      ],
      "execution_count": null,
      "outputs": []
    },
    {
      "cell_type": "code",
      "metadata": {
        "id": "YnQK_40z44xu"
      },
      "source": [
        "def convertirCf(c):\n",
        "  f= (c *9/5)+ 32 \n",
        "  return f\n",
        "\n",
        "c = int(input(\"C: \"))\n",
        "print(\"c: \", str(c), \" a Fahrenheit.: \", str( convertirCf(c) ))\n"
      ],
      "execution_count": null,
      "outputs": []
    },
    {
      "cell_type": "code",
      "metadata": {
        "id": "RXM1WVnJ47vN"
      },
      "source": [
        "2.Calcular la edad de una persona."
      ],
      "execution_count": null,
      "outputs": []
    },
    {
      "cell_type": "code",
      "metadata": {
        "id": "cZJXwm865H1G"
      },
      "source": [
        "from datetime import date # se importa \n",
        " \n",
        "ao=int(input(\"Ingrese su año de naciemiento en número: \"))# Ingreso de año\n",
        "mes=int(input(\"Ingrese su mes de naciemiento en número: \"))#mes\n",
        "dia=int(input(\"Ingrese su dia de naciemiento: \"))#día\n",
        "\n",
        "aoActual=date.today().year # se obtiene año actual con la funcion que se importo \n",
        "mesActual=date.today().month\n",
        "diaActual=date.today().day\n",
        "\n",
        "edad=aoActual - ao  #restamos para saber cuantos años se tiene \n",
        "\n",
        "if mes > mesActual: \n",
        "  if dia > diaActual:\n",
        "      edad= edad -1\n",
        "      print(\"Tu edad es: \",edad)\n",
        "else: \n",
        "   print(\"Tu edad es: \",edad)\n",
        "\n",
        "if mes > mesActual: \n",
        "  if dia < diaActual:\n",
        "    edad= edad -1\n",
        "    print(\"Tu edad es: \",edad)    "
      ],
      "execution_count": null,
      "outputs": []
    },
    {
      "cell_type": "code",
      "metadata": {
        "id": "O692wuVe_JSx"
      },
      "source": [
        "3.Obtenerla nota final de ciclo"
      ],
      "execution_count": null,
      "outputs": []
    },
    {
      "cell_type": "code",
      "metadata": {
        "colab": {
          "base_uri": "https://localhost:8080/"
        },
        "id": "PDTahFCEuO7h",
        "outputId": "b4f7ed13-a656-4736-9f65-5b4fafb17cc5"
      },
      "source": [
        "lab1C1= float(input(\"Ingrese la nota del laboratorio 1 del primer computo: \"))\n",
        "lab2C1= float(input(\"Ingrese la nota del laboratorio 2 del primer computo: \"))\n",
        "examen1= float(input(\"Ingrese la nota de examen del primer computo: \"))\n",
        "\n",
        "cmpt1= lab1C1*0.30+0.30*lab2C1+0.40*examen1\n",
        "\n",
        "print(\"Su nota del primer computo es: \",cmpt1)\n",
        "\n",
        "lab1C2= float(input(\"Ingrese la nota del laboratorio 1 del segundo computo: \"))\n",
        "lab2C2= float(input(\"Ingrese la nota del laboratorio 2 del segundo computo: \"))\n",
        "examen2= float(input(\"Ingrese la nota del examen del segundo computo: \"))\n",
        "\n",
        "cmpt2= lab1C2*0.30+0.30*lab2C2+0.40*examen2\n",
        "\n",
        "print(\"Su nota del primer computo es: \",cmpt2)\n",
        "\n",
        "lab1C3= float(input(\"Ingrese la nota del laboratorio 1 del tercer computo: \"))\n",
        "lab2C3= float(input(\"Ingrese la nota del laboratorio 2 del tercer computo: \"))\n",
        "examen3= float(input(\"Ingrese la nota del examen del tercer computo: \"))\n",
        "\n",
        "cmpt3= lab1C3*0.30+0.30*lab2C3+0.40*examen3\n",
        "print(\"Su nota del primer computo es: \",cmpt3)\n",
        "\n",
        "\n",
        "notafinalC= (cmpt1+cmpt2+cmpt3)/3\n",
        "\n",
        "print (\"La nota final de ciclo es: \",notafinalC)\n",
        "1"
      ],
      "execution_count": null,
      "outputs": [
        {
          "output_type": "stream",
          "text": [
            "Ingrese la nota del laboratorio 1 del primer computo: 10\n",
            "Ingrese la nota del laboratorio 2 del primer computo: 9\n",
            "Ingrese la nota de examen del primer computo: 5\n",
            "Su nota del primer computo es:  7.699999999999999\n",
            "Ingrese la nota del laboratorio 1 del segundo computo: 10\n",
            "Ingrese la nota del laboratorio 2 del segundo computo: 9\n",
            "Ingrese la nota del examen del segundo computo: 9\n",
            "Su nota del primer computo es:  9.299999999999999\n",
            "Ingrese la nota del laboratorio 1 del tercer computo: 10\n",
            "Ingrese la nota del laboratorio 2 del tercer computo: 9\n",
            "Ingrese la nota del examen del tercer computo: 10\n",
            "Su nota del primer computo es:  9.7\n",
            "a nota final de ciclo es:  8.9\n"
          ],
          "name": "stdout"
        }
      ]
    },
    {
      "cell_type": "code",
      "metadata": {
        "id": "5z3xduVxYDlE"
      },
      "source": [
        ""
      ],
      "execution_count": null,
      "outputs": []
    },
    {
      "cell_type": "code",
      "metadata": {
        "id": "SeR_niLVYEF1"
      },
      "source": [
        "  \n",
        "      "
      ],
      "execution_count": null,
      "outputs": []
    },
    {
      "cell_type": "markdown",
      "metadata": {
        "id": "y_EJR-Lf_tMo"
      },
      "source": [
        ""
      ]
    }
  ]
}